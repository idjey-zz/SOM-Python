{
 "cells": [
  {
   "cell_type": "code",
   "execution_count": 32,
   "metadata": {},
   "outputs": [],
   "source": [
    "from pylab import plot, axis, show, pcolor, colorbar, bone\n",
    "from minisom import MiniSom\n",
    "from sklearn.datasets import load_breast_cancer\n",
    "import time"
   ]
  },
  {
   "cell_type": "code",
   "execution_count": 33,
   "metadata": {},
   "outputs": [],
   "source": [
    "#Settig HyperParameters\n",
    "som_grid_rows = 30\n",
    "som_grid_columns = 20\n",
    "iterations = 500\n",
    "sigma = 1\n",
    "learning_rate = 0.5"
   ]
  },
  {
   "cell_type": "code",
   "execution_count": 34,
   "metadata": {},
   "outputs": [],
   "source": [
    "#Load Data\n",
    "data, target = load_breast_cancer(True)"
   ]
  },
  {
   "cell_type": "code",
   "execution_count": 35,
   "metadata": {},
   "outputs": [],
   "source": [
    "#initilization\n",
    "som = MiniSom(x=som_grid_rows,\n",
    "              y=som_grid_columns,\n",
    "              input_len=data.shape[1],\n",
    "              sigma=sigma,\n",
    "              learning_rate=learning_rate)\n",
    "#som.random_weight_init(data)"
   ]
  },
  {
   "cell_type": "code",
   "execution_count": 36,
   "metadata": {},
   "outputs": [
    {
     "name": "stdout",
     "output_type": "stream",
     "text": [
      "0.11583065986633301 Seconds\n"
     ]
    }
   ],
   "source": [
    "#training\n",
    "start_time = time.time()\n",
    "som.train_random(data, iterations)  # We will train with 100 iterations\n",
    "elapsed_time = time.time() - start_time\n",
    "print(elapsed_time, \"Seconds\")"
   ]
  },
  {
   "cell_type": "code",
   "execution_count": 37,
   "metadata": {},
   "outputs": [
    {
     "data": {
      "image/png": "[encoded data removed]",
      "text/plain": [
       "<Figure size 432x288 with 2 Axes>"
      ]
     },
     "metadata": {
      "needs_background": "light"
     },
     "output_type": "display_data"
    }
   ],
   "source": [
    "bone()\n",
    "pcolor(som.distance_map().T)  # Distance map as a background\n",
    "colorbar()\n",
    "\n",
    "#We are usind different colors and markers for each lables\n",
    "markers = ['o', 's', 'D']\n",
    "colors = ['r', 'g', 'b']\n",
    "\n",
    "for cnt, xx in enumerate(data):\n",
    "    w = som.winner(xx)  # Getting winner\n",
    "\n",
    "#We place a marker on the winning positions for sample XX\n",
    "plot(w[0]+.5, w[1]+.5, markers[target[cnt]], markerfacecolor='None',\n",
    "     markeredgecolor=colors[target[cnt]], markersize=12, markeredgewidth=2)\n",
    "axis([0, som._weights.shape[0], 0, som._weights.shape[1]])\n",
    "show()"
   ]
  },
  {
   "cell_type": "code",
   "execution_count": null,
   "metadata": {},
   "outputs": [],
   "source": []
  },
  {
   "cell_type": "code",
   "execution_count": null,
   "metadata": {},
   "outputs": [],
   "source": []
  }
 ],
 "metadata": {
  "kernelspec": {
   "display_name": "Python 3",
   "language": "python",
   "name": "python3"
  },
  "language_info": {
   "codemirror_mode": {
    "name": "ipython",
    "version": 3
   },
   "file_extension": ".py",
   "mimetype": "text/x-python",
   "name": "python",
   "nbconvert_exporter": "python",
   "pygments_lexer": "ipython3",
   "version": "3.7.4"
  }
 },
 "nbformat": 4,
 "nbformat_minor": 2
}
